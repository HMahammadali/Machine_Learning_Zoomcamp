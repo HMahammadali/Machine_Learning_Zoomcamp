{
 "cells": [
  {
   "cell_type": "code",
   "execution_count": 2,
   "metadata": {},
   "outputs": [
    {
     "ename": "",
     "evalue": "",
     "output_type": "error",
     "traceback": [
      "\u001b[1;31mFailed to start the Kernel. \n",
      "\u001b[1;31mConnection is disposed. \n",
      "\u001b[1;31mView Jupyter <a href='command:jupyter.viewOutput'>log</a> for further details."
     ]
    }
   ],
   "source": [
    "import pandas as pd\n",
    "import numpy as np"
   ]
  },
  {
   "cell_type": "markdown",
   "metadata": {},
   "source": [
    "Questions.\n",
    "1. \n",
    "2. 2160\n",
    "3. 27\n",
    "4. 3\n",
    "5. 3936\n",
    "6. No\n",
    "7. 91.2998806299555"
   ]
  },
  {
   "cell_type": "code",
   "execution_count": null,
   "metadata": {},
   "outputs": [],
   "source": []
  },
  {
   "cell_type": "code",
   "execution_count": 12,
   "metadata": {},
   "outputs": [],
   "source": [
    "data = pd.read_csv(\"hw1data3.csv\")"
   ]
  },
  {
   "cell_type": "code",
   "execution_count": null,
   "metadata": {},
   "outputs": [],
   "source": [
    "pd.__version__"
   ]
  },
  {
   "cell_type": "code",
   "execution_count": 17,
   "metadata": {},
   "outputs": [],
   "source": [
    "df = pd.DataFrame(data)"
   ]
  },
  {
   "cell_type": "code",
   "execution_count": null,
   "metadata": {},
   "outputs": [],
   "source": [
    "print(df)"
   ]
  },
  {
   "cell_type": "code",
   "execution_count": null,
   "metadata": {},
   "outputs": [],
   "source": [
    "df.Brand.nunique()"
   ]
  },
  {
   "cell_type": "code",
   "execution_count": null,
   "metadata": {},
   "outputs": [],
   "source": [
    "\n",
    "#Question 4\n",
    "# Check for missing values in each column\n",
    "missing_values = df.isnull().sum()\n",
    "\n",
    "# Count the number of columns with missing values\n",
    "columns_with_missing_values = missing_values[missing_values > 0].count()\n",
    "\n",
    "print(f\"The number of columns with missing values is: {columns_with_missing_values}\")\n"
   ]
  },
  {
   "cell_type": "code",
   "execution_count": null,
   "metadata": {},
   "outputs": [],
   "source": [
    "\n",
    "\n",
    "# Filter the dataset for Dell notebooks\n",
    "dell_notebooks = df[df['Brand'] == 'Dell']\n",
    "\n",
    "# Find the maximum final price of Dell notebooks\n",
    "max_final_price = dell_notebooks['Final Price'].max()\n",
    "\n",
    "print(f\"The maximum final price of Dell notebooks in the dataset is: {max_final_price}\")\n"
   ]
  },
  {
   "cell_type": "code",
   "execution_count": null,
   "metadata": {},
   "outputs": [],
   "source": [
    "# Question 6\n",
    "\n",
    "# Calculate the initial median value of the Screen column\n",
    "initial_median_screen = df['Screen'].median()\n",
    "\n",
    "# Calculate the most frequent value of the Screen column\n",
    "most_frequent_screen = df['Screen'].mode()[0]\n",
    "\n",
    "# Fill missing values in the Screen column with the most frequent value\n",
    "df['Screen'].fillna(most_frequent_screen, inplace=True)\n",
    "\n",
    "# Calculate the new median value of the Screen column\n",
    "new_median_screen = df['Screen'].median()\n",
    "\n",
    "# Check if the median value has changed\n",
    "has_changed = initial_median_screen != new_median_screen\n",
    "\n",
    "print(f\"Initial median value of Screen: {initial_median_screen}\")\n",
    "print(f\"Most frequent value of Screen: {most_frequent_screen}\")\n",
    "print(f\"New median value of Screen after filling missing values: {new_median_screen}\")\n",
    "print(f\"Has the median value changed? {'Yes' if has_changed else 'No'}\")\n"
   ]
  },
  {
   "cell_type": "code",
   "execution_count": null,
   "metadata": {},
   "outputs": [],
   "source": [
    "\n",
    "import numpy as np\n",
    "\n",
    "# Question 7\n",
    "\n",
    "# Select all the \"Innjoo\" laptops and only columns RAM, Storage, Screen\n",
    "innjoo_laptops = df[df['Brand'] == 'Innjoo'][['RAM', 'Storage', 'Screen']]\n",
    "\n",
    "# Get the underlying NumPy array\n",
    "X = innjoo_laptops.to_numpy()\n",
    "\n",
    "# Compute matrix-matrix multiplication between the transpose of X and X\n",
    "XTX = np.dot(X.T, X)\n",
    "\n",
    "# Compute the inverse of XTX\n",
    "XTX_inv = np.linalg.inv(XTX)\n",
    "\n",
    "# Create an array y with values [1100, 1300, 800, 900, 1000, 1100]\n",
    "y = np.array([1100, 1300, 800, 900, 1000, 1100])\n",
    "\n",
    "# Multiply the inverse of XTX with the transpose of X, and then multiply the result by y\n",
    "w = np.dot(np.dot(XTX_inv, X.T), y)\n",
    "\n",
    "# Calculate the sum of all the elements of the result\n",
    "result_sum = np.sum(w)\n",
    "\n",
    "print(f\"The sum of all the elements of the result is: {result_sum}\")\n"
   ]
  }
 ],
 "metadata": {
  "kernelspec": {
   "display_name": "Python 3",
   "language": "python",
   "name": "python3"
  },
  "language_info": {
   "codemirror_mode": {
    "name": "ipython",
    "version": 3
   },
   "file_extension": ".py",
   "mimetype": "text/x-python",
   "name": "python",
   "nbconvert_exporter": "python",
   "pygments_lexer": "ipython3",
   "version": "3.10.4"
  }
 },
 "nbformat": 4,
 "nbformat_minor": 2
}
